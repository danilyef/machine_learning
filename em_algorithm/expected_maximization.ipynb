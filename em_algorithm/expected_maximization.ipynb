{
 "cells": [
  {
   "cell_type": "markdown",
   "metadata": {},
   "source": [
    "<h1 style=\"color:rgb(0,120,170)\">Expectation Maximization</h1>"
   ]
  },
  {
   "cell_type": "markdown",
   "metadata": {},
   "source": [
    "<h2 style=\"color:rgb(0,120,170)\">Task 1: Proof details for EM-algorithm</h2>\n",
    "\n",
    "This task is meant to foster your understanding concerning some theoretical insights into the EM algorithm.\n",
    "As you have seen in the briefing session, when doing EM, you improve the log likelihood of the data $\\mathbf{x}$, i.e. $\\ln p(\\mathbf{x}\\!\\mid\\!\\mathbf{\\Theta})$, by introducing a distribution $Q(\\mathbf{u}\\!\\mid\\!\\mathbf{x})$ on hidden variables $\\mathbf{u}$. Then, instead of maximizing the log likelihood directly, you maximize a lower bound which is obtained through Jensen's inequality. We have:\n",
    "\n",
    "\\begin{align}\n",
    " \\ln(p(\\mathbf{x})) \\geq \\int_U Q(\\mathbf{u}\\!\\mid\\!\\mathbf{x})\\, \\ln \\frac{p(\\mathbf{x}, \\mathbf{u})}{Q(\\mathbf{u}\\!\\mid\\!\\mathbf{x})}\\ \\textrm{d}\\mathbf{u}. \\quad (1)\n",
    "\\end{align}\n",
    "\n",
    "<h3 style=\"color:rgb(0,120,170)\">Task:</h3>\n",
    "\n",
    "Confirm that after each E-step in the EM algorithm, this lower bound is reached with equality (\"the bound is tight\")."
   ]
  },
  {
   "cell_type": "markdown",
   "metadata": {},
   "source": [
    "<h3 style=\"color:rgb(210,90,80)\">Calculation:</h3>\n",
    "\n",
    "$$\\ln(p(\\mathbf{x})) \\geq \\int_U Q(\\mathbf{u}\\!\\mid\\!\\mathbf{x})\\, \\ln \\frac{p(\\mathbf{x}, \\mathbf{u})}{Q(\\mathbf{u}\\!\\mid\\!\\mathbf{x})}\\ \\textrm{d}\\mathbf{u}. \\quad $$\n",
    "\n",
    "$$\\ln(p(\\mathbf{x})) \\geq \\int_U \\ln p(x) Q(\\mathbf{u}\\!\\mid\\!\\mathbf{x})\\textrm{d}\\mathbf{u} + \\int_U \\ln \\frac{p(\\mathbf{u}\\!\\mid\\!\\mathbf{x})}{Q(\\mathbf{u}\\!\\mid\\!\\mathbf{x})} Q(\\mathbf{u}\\!\\mid\\!\\mathbf{x})\\textrm{d}\\mathbf{u} $$\n",
    "\n",
    "$$\\ln(p(\\mathbf{x})) \\geq \\ln(p(\\mathbf{x})) - \\int_U \\ln \\frac{Q(\\mathbf{u}\\!\\mid\\!\\mathbf{x})}{p(\\mathbf{u}\\!\\mid\\!\\mathbf{x})} Q(\\mathbf{u}\\!\\mid\\!\\mathbf{x})\\textrm{d}\\mathbf{u} $$\n",
    "\n",
    "Equality between lower bound and log-likelihood holds(according to Jensen's inequality) if $$E_Q \\left(\\ln \\frac{p(\\mathbf{x}, \\mathbf{u})}{Q(\\mathbf{u} \\!\\mid\\!\\mathbf{x})} \\right) =  \\int_U Q(\\mathbf{u}\\!\\mid\\!\\mathbf{x})\\, \\ln \\frac{p(\\mathbf{x}, \\mathbf{u})}{Q(\\mathbf{u}\\!\\mid\\!\\mathbf{x})}\\ \\textrm{d}\\mathbf{u}. \\quad = 0$$\n",
    "\n",
    "So in order to maximize lower bound(make it tight) we have to set $Q(\\mathbf{u}\\!\\mid\\!\\mathbf{x})$ as \n",
    "\n",
    "$$ Q(\\mathbf{u_i}\\!\\mid\\!\\mathbf{x_i}) =  \\frac {p(x_i,u_i,\\theta)}{\\sum_u p(x_i,u_i,\\theta)}  = p(u_i \\mid x_i, \\theta)$$ \n",
    "\n",
    "As as result we will get $ \\ln1 = 0$ , which shows that bound is tight. "
   ]
  },
  {
   "cell_type": "markdown",
   "metadata": {},
   "source": [
    "<h2 style=\"color:rgb(0,120,170)\"> Task 2: Examples of Mixture models </h2>\n",
    "\n",
    "In the slides, we discussed the procedure of obtaining well-suited parameters for a mixture of Gaussians model, thereby using the EM-algorithm. Now we want to apply these techniques to derive update formulas for a similar (and even easier) tasks in the discrete setting, namely the Mixture of (one-dimensional) Poisson distributios and Bernoulli distributions. Let us start recalling the general notion of a mixture model: a mixture of $K$ distributions $p_k(x;\\theta_k)$ with $k=1,...,K$ can be written as:\n",
    "$\n",
    "p(x) = \\sum_{k=1}^K\\alpha_k p_k(x;\\theta_k),\n",
    "$\n",
    "where $\\sum_{k=1}^K\\alpha_k = 1$ and all $\\alpha_k > 0$. If the data are assumed to be drawn i.i.d. from $p(x)$, the likelihood function has the form\n",
    "\\begin{equation}\n",
    "\\ln \\mathcal{L}(\\Theta \\!\\mid\\! x_1, ..., x_n) = \\ln \\prod_{i=1}^n p(x_i) = \\sum_{i=1}^n \\ln\\Big(\\sum_{k=1}^K \\alpha_k p(x_i;\\theta_k)\\Big)\n",
    "\\end{equation}\n",
    "where $\\Theta = \\{ \\alpha_1, ..., \\alpha_K, \\theta_1, ..., \\theta_K \\}$.\n",
    "\n",
    "<h3 style=\"color:rgb(0,120,170)\">Task:</h3>\n",
    "\n",
    "In a similar way as in the slides apply the EM-algorithm, specifically you are asked to derive update formulas for $r_{ik}$, $\\alpha_k$, $\\lambda_k$ and $\\mu_k$ (the corresponding parameters) to be used in the E- and M-steps for:\n",
    "* A mixture of Poisson distributions $P(x;\\lambda) = \\lambda^{x}e^{-\\lambda}\\frac{1}{x!}$. Keep in mind that this is a discrete distribution, i.e. $x \\in \\mathbb{N} \\cup \\{ 0 \\}$. Moreover, $\\lambda>0$.\n",
    "* A mixture of Bernoulli distributions $P(x; \\mu)= \\mu ^x (1-\\mu)^{1-x}$. Keep in mind that this is a discrete distribution with binary outputs, such that in our case $x \\in  \\{ 0,1 \\}$. Moreover $\\mu \\in [0,1]$.\n",
    "\n",
    "Note that most of the formulas from the slides for the Mixture of Gaussians problem can be reused, as they are not specific to the Gaussian distribution, but for a Mixture Model in general. These calculations shouldn't be reproduced again, just use the corresponding results!"
   ]
  },
  {
   "cell_type": "markdown",
   "metadata": {},
   "source": [
    "<h3 style=\"color:rgb(210,90,80)\">Calculation:</h3> \n",
    "\n",
    "**1. Poisson Distribution:**\n",
    "\n",
    "$$\\ln p(x_i;\\lambda_k) = \\ln \\frac{\\lambda_k^{x_i}}{x_i!} e^{-\\lambda_k} = \\ln \\lambda_k^{x_i} - \\ln x_i! - \\lambda_k = x_i\\ln \\lambda_k- \\ln x_i! - \\lambda_k$$\n",
    "\n",
    "$$\\frac{d}{d\\lambda_k} = \\frac{x_i}{\\lambda_k} - 1 = 0$$\n",
    "\n",
    "$$ \\lambda_k = x_i $$\n",
    "\n",
    "substituting derivative of $\\ln p(x_i;\\lambda_k)$ into equation $$ \\frac{d\\ln \\mathcal{L}}{d\\lambda_k} = \\sum_i^n p\\left(u_i = k\\mid\\ x_i\\right) \\frac{d\\ln p(x_i,\\lambda_k)}{d\\lambda_k}$$\n",
    "\n",
    "we get\n",
    "\n",
    "$$ \\frac{d\\ln \\mathcal{L}}{d\\lambda_k} = \\sum_i^n r_{ik} \\left( \\frac{x_i}{\\lambda_k} - 1 \\right) = 0$$\n",
    "\n",
    "$$ \\frac{\\sum_i^n r_{ik}x_i}{\\lambda_k} = \\sum_i^n r_{ik}$$\n",
    "\n",
    "$$ \\lambda_k = \\frac{\\sum_i^n r_{ik}x_i}{\\sum_i^n r_{ik}} $$\n",
    "\n",
    "\n",
    "\n",
    "**2. Bernoulli distribution:**\n",
    "\n",
    "$$\\ln p(x_i;\\mu_k) = \\ln \\mu_k^{x_i}(1-\\mu_k)^{1-x_i}  = \\ln \\mu_k^{x_i} + \\ln (1-\\mu_k)^{1-x_i} = x_i\\ln \\mu_k + (1-x_i)\\ln(1-\\mu_k)$$\n",
    "\n",
    "$$\\frac{d\\ln \\mathcal{L}}{d\\mu_k} = \\frac{x_i}{\\mu_k} - \\frac{1-x_i}{1-\\mu_k} = 0$$\n",
    "\n",
    "\n",
    "$$x_i(1-\\mu_k) + \\mu_k(1-x_i) = 0$$\n",
    "\n",
    "$$\\mu_k = x_i$$\n",
    "\n",
    "substituting derivative of $\\ln p(x_i;\\mu_k)$ into equation $$ \\frac{d\\ln \\mathcal{L}}{d\\mu_k} = \\sum_i^n p\\left(u_i = k\\mid\\ x_i\\right) \\frac{d\\ln p(x_i,\\mu_k)}{d\\mu_k}$$\n",
    "\n",
    "we get \n",
    "\n",
    "$$ \\frac{d\\ln \\mathcal{L}}{d\\mu_k} = \\sum_i^n r_{ik} \\left( \\frac{x_i}{\\mu_k} - \\frac{1-x_i}{1-\\mu_k} \\right) = 0$$\n",
    "\n",
    "$$ \\sum_i^n r_{ik}x_i = \\sum_i^n r_{ik}\\mu_k$$\n",
    "\n",
    "$$ \\mu_k = \\frac{\\sum_i^n r_{ik}x_i}{\\sum_i^n r_{ik}} $$\n",
    "\n",
    "\n",
    "$\\alpha_k = \\frac{1}{n}\\sum_{i=1}^n p(u_i\\! =\\! k \\!\\mid\\! x_i)$ and $r_{ik} =\\frac{\\alpha_k\\, p(x_i;\\theta_k)}{\\sum_{l=1}^K\\alpha_l\\, p(x_i;\\theta_l)}$ are the same for both distributions, because:\n",
    "\n",
    "1. Optimization for $\\alpha_k$ cosists of finding a lagrangian of log-likelihood function w.r.t $\\alpha_k$. Taking derivative of log-likelihood w.r.t $\\alpha_k$ means, that probability distribution is not involved in this calculation. Hence, optimization of $\\alpha_k$ is independent of distribution. As a result, the general formula will be the same for all distributions.\n",
    "\n",
    "2. Given $\\alpha_k$ and $\\lambda_k$ we use Bayes' Theorem for computing $r_{ik}$. Again, this calculation doesn't involve any transformation of the probability distribution. Hence, the general formula for $r_{ik}$ will be the same for any distribution."
   ]
  },
  {
   "cell_type": "markdown",
   "metadata": {},
   "source": [
    "<h2 style=\"color:rgb(0,120,170)\"> Task 3: Implementation of Mixture of Poissons algorithm </h2>\n",
    "\n",
    "\n",
    "Now we intend to write a program that estimates all the parameters of a Mixture of Poissons via an EM algorithm by using the results from the previous task. If you have done that correctly, you should have obtained $\\alpha_k = \\frac{1}{n}\\sum_{i=1}^n p(u_i\\! =\\! k \\!\\mid\\! x_i)$, $ \\lambda_k = \\frac{\\sum_{i=1}^nx_i\\, p(u_i = k \\mid x_i)}{\\sum_{i=1}^np(u_i = k \\mid x_i)}$, and $r_{ik} =\\frac{\\alpha_k\\, p(x_i;\\theta_k)}{\\sum_{l=1}^K\\alpha_l\\, p(x_i;\\theta_l)}$. (Obviously, it's not enough for the previous task to just write down these solutions, of course you have to provide arguments.) Let us start with reading in and visualizing the data set that you have to use. Then proceed with doing the following tasks:\n",
    "\n",
    "<h3 style=\"color:rgb(0,120,170)\">Task:</h3>\n",
    "\n",
    "* Write functions that implement the E-step, M-step and the log-likelihoods.\n",
    "* Then iterate until the differences between the log-likelihoods before and after some iteration step is less than $10^{-5}$.\n",
    "* Let your algorithm run on the data from $\\mathsf{cnvdata.csv}$, which we already encoded in the variable data. Start with $K=4$ mixture components, and initialize all four alphas equally. For the initialization of the $\\lambda_k$ use $10,50,100$ and $150$. \n",
    "* Try further choices of $K$ and run different experiments with different random initializations (at least one). Be careful with exponents and factorials to not run into overflow."
   ]
  },
  {
   "cell_type": "code",
   "execution_count": 1,
   "metadata": {
    "scrolled": true
   },
   "outputs": [
    {
     "name": "stdout",
     "output_type": "stream",
     "text": [
      "sklearn version: 1.1.2\n",
      "scipy version: 1.9.2\n",
      "numpy version: 1.21.5\n",
      "matplotlib version: 3.5.1\n"
     ]
    },
    {
     "data": {
      "image/png": "[encoded data removed]",
      "text/plain": [
       "<Figure size 432x288 with 1 Axes>"
      ]
     },
     "metadata": {
      "needs_background": "light"
     },
     "output_type": "display_data"
    }
   ],
   "source": [
    "from scipy.stats import poisson\n",
    "import numpy as np\n",
    "import matplotlib.pyplot as plt\n",
    "\n",
    "import scipy\n",
    "import matplotlib\n",
    "import sklearn\n",
    "import numpy as np\n",
    "\n",
    "%matplotlib inline  \n",
    "\n",
    "\n",
    "print('sklearn version:',sklearn.__version__)\n",
    "print('scipy version:',scipy.__version__)\n",
    "print('numpy version:',np.__version__)\n",
    "print('matplotlib version:',matplotlib.__version__)\n",
    "\n",
    "data = np.loadtxt(open(\"cnvdata.csv\", \"rb\"), delimiter=\",\", skiprows=1)\n",
    "\n",
    "plt.hist(data,bins=50)\n",
    "plt.title('Data distribution')\n",
    "plt.ylabel('$p(X)$')\n",
    "plt.xlabel('$X$')\n",
    "plt.show()"
   ]
  },
  {
   "cell_type": "markdown",
   "metadata": {},
   "source": [
    "<h3 style=\"color:rgb(208,90,80)\">Code</h3>"
   ]
  },
  {
   "cell_type": "code",
   "execution_count": 2,
   "metadata": {},
   "outputs": [
    {
     "name": "stdout",
     "output_type": "stream",
     "text": [
      "Algorithm has converged\n"
     ]
    }
   ],
   "source": [
    "def m_step(x,R,K):\n",
    "    alphas = []\n",
    "    lambdas = []\n",
    "    distr = []\n",
    "    for k in range(K):\n",
    "        \n",
    "        alphas.append(sum(R[k])/len(R[k]))\n",
    "        lambdas.append(sum(R[k] * x)/sum(R[k]))\n",
    "        distr.append(poisson.pmf(x,lambdas[k]))\n",
    "    \n",
    "    \n",
    "    return alphas,lambdas,distr\n",
    "        \n",
    "    \n",
    "def e_step(alphas,distr,K):\n",
    "    R = []\n",
    "    denominator = np.dot(alphas,distr)\n",
    "    for k in range(K):\n",
    "        R.append((alphas[k] * distr[k])/denominator)\n",
    "        \n",
    "        \n",
    "    return R\n",
    "\n",
    "\n",
    "\n",
    "def log_likelihood(alphas,distr):\n",
    "\n",
    "    return np.sum(np.log(np.dot(alphas,distr)))\n",
    "    \n",
    "    \n",
    "\n",
    "    \n",
    "def EM_algorithm(x,K = 4,lambdas = [10,50,100,150],eps = 10**(-5)):\n",
    "    \n",
    "    #initialization\n",
    "    alphas = [1/K for i in range(K)]\n",
    "    distr = []\n",
    "    log_likel = 0\n",
    "    for k in range(K):\n",
    "        distr.append(poisson.pmf(x,lambdas[k]))\n",
    "    \n",
    "    while True:\n",
    "        R = e_step(alphas,distr,K)\n",
    "        alphas,lambdas,distr = m_step(x,R,K)\n",
    "        LL = log_likelihood(alphas,distr)\n",
    "        if abs(LL - log_likel) < eps:\n",
    "            print('Algorithm has converged')\n",
    "            return alphas,lambdas,LL\n",
    "        else:\n",
    "            log_likel = LL\n",
    "\n",
    "\n",
    "    \n",
    "    \n",
    "alp_4,lamb_4,LL_4 = EM_algorithm(data)     \n",
    "\n",
    "        \n",
    "            "
   ]
  },
  {
   "cell_type": "code",
   "execution_count": 3,
   "metadata": {},
   "outputs": [
    {
     "name": "stdout",
     "output_type": "stream",
     "text": [
      "Algorithm has converged\n"
     ]
    }
   ],
   "source": [
    "alp_3,lamb_3,LL_3 = EM_algorithm(data,K = 3,lambdas = [50,100,180])  "
   ]
  },
  {
   "cell_type": "markdown",
   "metadata": {},
   "source": [
    "<h3 style=\"color:rgb(0,120,170)\">Task:</h3>\n",
    "\n",
    "* Test your implementation of the four components with the mentioned initializations. Print the corresponding $\\alpha$'s, $\\lambda$'s and log-likelihoods. Finally, produce a plot that visualizes the original data distribution and the estimated one."
   ]
  },
  {
   "cell_type": "markdown",
   "metadata": {},
   "source": [
    "<h3 style=\"color:rgb(208,90,80)\">Code</h3>"
   ]
  },
  {
   "cell_type": "code",
   "execution_count": 4,
   "metadata": {},
   "outputs": [
    {
     "name": "stdout",
     "output_type": "stream",
     "text": [
      "Given setup with K = 4\n",
      "Final Log-likelihood: -1251.019535723605\n",
      "Final Lambdas: [40.709283975853964, 48.647138476221045, 96.96567354695998, 186.9811367271789]\n",
      "Final alphas: [3.734188412217063e-09, 0.5449343016662409, 0.09143898647319977, 0.3636267081263711]\n",
      "Check for alphas: 1.0000000000000002\n"
     ]
    }
   ],
   "source": [
    "################################################\n",
    "\n",
    "#1.Given setup with K = 4:\n",
    "print('Given setup with K = 4')\n",
    "print('Final Log-likelihood:',LL_4)\n",
    "print('Final Lambdas:',lamb_4)\n",
    "print('Final alphas:',alp_4)\n",
    "print('Check for alphas:',sum(alp_4))"
   ]
  },
  {
   "cell_type": "code",
   "execution_count": 5,
   "metadata": {},
   "outputs": [
    {
     "data": {
      "image/png": "[encoded data removed]",
      "text/plain": [
       "<Figure size 432x288 with 1 Axes>"
      ]
     },
     "metadata": {
      "needs_background": "light"
     },
     "output_type": "display_data"
    }
   ],
   "source": [
    "def mix_poisson(x, lambdas,alphas):\n",
    "    distr = np.zeros_like(x)\n",
    "    for lamb,alpha in zip(lambdas, alphas):\n",
    "        distr += alpha * poisson.pmf(x, lamb)\n",
    "    return distr\n",
    "\n",
    "grid = np.arange(np.min(data), np.max(data), 1)\n",
    "plt.plot(grid, mix_poisson(grid,lamb_4,alp_4), label='EM Distribution')\n",
    "\n",
    "plt.hist(data,bins=50,density = True,alpha = 0.2,label = 'Data Distribution')\n",
    "plt.title('EM Algorithms with K = 4')\n",
    "plt.ylabel('$p(X)$')\n",
    "plt.xlabel('$X$')\n",
    "plt.legend(loc='upper right')\n",
    "plt.show()"
   ]
  },
  {
   "cell_type": "markdown",
   "metadata": {},
   "source": [
    "<h3 style=\"color:rgb(210,90,80)\">Question:</h3>\n",
    "\n",
    "Based on the plots it looks like, that it might be either 3 or 4 clusters.\n",
    "When we use EM-algorithm for K = 1, distribution is way of compared to original data distribution.\n",
    "for K = 2 it misses data near x = 100. For K = 3 and K = 4 there is almost no difference, but LL for K = 3 is a bit better.\n",
    "\n",
    "I have checked as well K = 5 and K = 6, they look good as well. It means, that with increasing K distribution will predict as good as with K = 3 or 4, but it will assign very low weights to the redundant clusters."
   ]
  },
  {
   "cell_type": "code",
   "execution_count": 6,
   "metadata": {},
   "outputs": [
    {
     "data": {
      "image/png": "[encoded data removed]",
      "text/plain": [
       "<Figure size 432x288 with 1 Axes>"
      ]
     },
     "metadata": {
      "needs_background": "light"
     },
     "output_type": "display_data"
    }
   ],
   "source": [
    "grid = np.arange(np.min(data), np.max(data), 1)\n",
    "plt.plot(grid, mix_poisson(grid,lamb_3,alp_3), label='EM Distribution')\n",
    "\n",
    "plt.hist(data,bins=50,density = True,alpha = 0.2,label = 'Data Distribution')\n",
    "plt.title('EM Algorithms with K = 3')\n",
    "plt.ylabel('$p(X)$')\n",
    "plt.xlabel('$X$')\n",
    "plt.legend(loc='upper right')\n",
    "plt.show()"
   ]
  }
 ],
 "metadata": {
  "kernelspec": {
   "display_name": "Python 3.9.12 ('base')",
   "language": "python",
   "name": "python3"
  },
  "language_info": {
   "codemirror_mode": {
    "name": "ipython",
    "version": 3
   },
   "file_extension": ".py",
   "mimetype": "text/x-python",
   "name": "python",
   "nbconvert_exporter": "python",
   "pygments_lexer": "ipython3",
   "version": "3.9.12"
  },
  "vscode": {
   "interpreter": {
    "hash": "40d3a090f54c6569ab1632332b64b2c03c39dcf918b08424e98f38b5ae0af88f"
   }
  }
 },
 "nbformat": 4,
 "nbformat_minor": 2
}
